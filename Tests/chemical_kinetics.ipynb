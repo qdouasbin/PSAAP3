{
 "cells": [
  {
   "cell_type": "code",
   "execution_count": 79,
   "metadata": {},
   "outputs": [],
   "source": [
    "using DifferentialEquations\n",
    "using ADCME\n",
    "using PyCall"
   ]
  },
  {
   "cell_type": "code",
   "execution_count": 7,
   "metadata": {},
   "outputs": [
    {
     "data": {
      "text/plain": [
       "compute_cpHS (generic function with 1 method)"
      ]
     },
     "execution_count": 7,
     "metadata": {},
     "output_type": "execute_result"
    }
   ],
   "source": [
    "function compute_cpHS(a, R, T)\n",
    "    m = size(a)[1]\n",
    "    cpHS = zeros(m, 3)\n",
    "    for i = 1:m\n",
    "        if (T > a[i,1])\n",
    "            cpHS[i,1] = (a[i,2] + a[i,3] * T + a[i,4] * T^2 + a[i,5] * T^3 + a[i,6] * T^4) * R\n",
    "            cpHS[i,2] = (a[i,2] + a[i,3] * T / 2 + a[i,4] * T^2 /3 + a[i,5] * T^3 /4 + a[i,6] * T^4 /5 + a[i,7]/T) * R * T\n",
    "            cpHS[i,3] = (a[i,2] * log(T) + a[i,3] * T + a[i,4] * T^2 /2 + a[i,5] * T^3 /3 + a[i,6] * T^4 / 4 + a[i,8]) * R\n",
    "        else\n",
    "            cpHS[i,1] = (a[i,9] + a[i,10] * T + a[i,11] * T^2 + a[i,12] * T^3 + a[i,13] * T^4) * R\n",
    "            cpHS[i,2] = (a[i,9] + a[i,10] * T / 2 + a[i,11] * T^2 /3 + a[i,12] * T^3 /4 + a[i,13] * T^4 /5 + a[i,14]/T) * R * T\n",
    "            cpHS[i,3] = (a[i,9] * log(T) + a[i,10] * T + a[i,11] * T^2 /2 + a[i,12] * T^3 /3 + a[i,13] * T^4 / 4 + a[i,15]) * R        \n",
    "        end\n",
    "    end\n",
    "    return cpHS\n",
    "end"
   ]
  },
  {
   "cell_type": "code",
   "execution_count": 8,
   "metadata": {},
   "outputs": [],
   "source": [
    "#### Read data\n",
    "py\"\"\"\n",
    "import numpy as np\n",
    "\"\"\""
   ]
  },
  {
   "cell_type": "code",
   "execution_count": 64,
   "metadata": {},
   "outputs": [
    {
     "data": {
      "text/latex": [
       "4 . 2 6 8 0 5 2 2 2 6 0 6 5 2 3 2 e 7"
      ],
      "text/plain": [
       "4.268052226065232e7"
      ]
     },
     "execution_count": 64,
     "metadata": {},
     "output_type": "execute_result"
    }
   ],
   "source": [
    "V = 1  # Volume\n",
    "m = 0.21703355349342215 # Total mass\n",
    "NASA_coeffs = py\"np.load\"(\"data/NASA_coeffs.npy\")\n",
    "W = py\"np.load\"(\"data/molecular_weights.npy\") # Molar weight\n",
    "ν1_order = py\"np.load\"(\"data/reaction_orders.npy\") # Forward molar stoichiometric coefficients\n",
    "ν1 = py\"np.load\"(\"data/reactants_stoich_coeffs.npy\") # Forward molar stoichiometric coefficients\n",
    "ν2 = py\"np.load\"(\"data/product_stoich_coeffs.npy\") # Backward model stoichiometric coefficients\n",
    "N = size(ν1)[1]  # Number of Species\n",
    "M = size(ν1)[2]  # Number of Reactions\n",
    "ν = ν2 - ν1  \n",
    "pa = 100000 # 1 bar\n",
    "R = 8314.46261815324 # Gas constant in kmol\n",
    "### Constants: Combustion Chamber Level\n",
    "min_dot = 0 # Rate at which mass enters the chamber\n",
    "mout_dot = 0 # Rate at which mass leaves the chamber\n",
    "Yin = ones(N) # Mass fraction of species entering the chamber\n",
    "Yout = ones(N) # Mass fraction of species leaving the chamber\n",
    "Qdot = 0 # Heating source\n",
    "m_dot = min_dot - mout_dot\n",
    "hin = 1 # Enthalpy of input\n",
    "### Unknowns\n",
    "T = 1200.0 # Temperature\n",
    "Y = [0.5; 0; 0.5; 0; 0] # Mass fractions\n",
    "### Quantities that depend on the Unknowns\n",
    "ρ = m / V # density\n",
    "Af = [3.47850e+08] # preexponential constant Afj\n",
    "β = [0] # Temperature exponent\n",
    "E = [83680000.0] # Activation energy for the reactions in kJ (divide the value from Cantera by 1000)\n",
    "Q = ones(M) # Individual progress rates\n",
    "Kf = ones(M) # Forward reaction coefficients\n",
    "Kr = zeros(M) # Reverse reaction coefficients\n",
    "##### Computing ω_dot \n",
    "cpHS = compute_cpHS(NASA_coeffs, R, T)\n",
    "cp = cpHS[:,1]\n",
    "h = cpHS[:,2]\n",
    "s = cpHS[:,3]\n",
    "cvk = cp .- R\n",
    "ΔS = ν' * s  # Entropy change for reaction j\n",
    "ΔH = ν' * h # Entahlpy change for reaction j\n",
    "X = ρ * Y ./ W # Concentration\n",
    "cv = sum(cvk ./ W .* Y) # Mass heat capacities\n",
    "u = h ./ W - R ./ W .* T   # Internal energy for species\n",
    "p = sum(X) * R * T # pressure\n",
    "Kf = Af .* (T .^ β) .* exp.(-E ./ (R * T))\n",
    "Kr = Kf ./ (((pa/(R * T)) .^ sum(ν, dims=1)' .* exp.(ΔS ./ R - ΔH ./ (R * T))))\n",
    "Q = Kf .* prod(X .^ ν1_order, dims=1)' .- Kr .* prod(X .^ ν2, dims=1)'\n",
    "ω_dot = W .* sum(ν .* Q', dims=2)\n",
    "###### Species Conservation\n",
    "mgen_dot = V .* ω_dot \n",
    "Y_dot = (1 / m) .* min_dot .* (Yin .- Y) - mout_dot .* Y .+ mgen_dot \n",
    "###### Energy Conservation\n",
    "T_dot = 1 / (m * cv) * (-Qdot + min_dot * (hin - sum(u .* Yin)) - p * V / m * mout_dot - sum(mgen_dot .* u))"
   ]
  },
  {
   "cell_type": "code",
   "execution_count": 94,
   "metadata": {},
   "outputs": [
    {
     "data": {
      "text/plain": [
       "f (generic function with 3 methods)"
      ]
     },
     "execution_count": 94,
     "metadata": {},
     "output_type": "execute_result"
    }
   ],
   "source": [
    "function f(dTY, TY, p, t)\n",
    "    T = TY[1]\n",
    "    Y = TY[2:end]\n",
    "    cpHS = compute_cpHS(NASA_coeffs, R, T)\n",
    "    cp = cpHS[:,1]\n",
    "    h = cpHS[:,2]\n",
    "    s = cpHS[:,3]\n",
    "    cvk = cp .- R\n",
    "    ΔS = ν' * s  # Entropy change for reaction j\n",
    "    ΔH = ν' * h # Entahlpy change for reaction j\n",
    "    X = ρ * Y ./ W # Concentration\n",
    "    cv = sum(cvk ./ W .* Y) # Mass heat capacities\n",
    "    u = h ./ W - R ./ W .* T   # Internal energy for species\n",
    "    p = sum(X) * R * T # pressure\n",
    "    Kf = Af .* (T .^ β) .* exp.(-E ./ (R * T))\n",
    "    Kr = Kf ./ (((pa/(R * T)) .^ sum(ν, dims=1)' .* exp.(ΔS ./ R - ΔH ./ (R * T))))\n",
    "    Q = Kf .* prod(X .^ ν1_order, dims=1)' .- Kr .* prod(X .^ ν2, dims=1)'\n",
    "    ω_dot = W .* sum(ν .* Q', dims=2)\n",
    "    ###### Species Conservation\n",
    "    mgen_dot = V .* ω_dot \n",
    "    Y_dot = (1 / m) .* min_dot .* (Yin .- Y) - mout_dot .* Y .+ mgen_dot \n",
    "    ###### Energy Conservation\n",
    "    T_dot = 1 / (m * cv) * (-Qdot + min_dot * (hin - sum(u .* Yin)) - p * V / m * mout_dot - sum(mgen_dot .* u))\n",
    "    dTY = [T_dot; Y_dot]\n",
    "    return dTY\n",
    "end\n",
    "\n",
    "function f(TY)\n",
    "    T = TY[1]\n",
    "    Y = TY[2:end]\n",
    "    cpHS = compute_cpHS(NASA_coeffs, R, T)\n",
    "    cp = cpHS[:,1]\n",
    "    h = cpHS[:,2]\n",
    "    s = cpHS[:,3]\n",
    "    cvk = cp .- R\n",
    "    ΔS = ν' * s  # Entropy change for reaction j\n",
    "    ΔH = ν' * h # Entahlpy change for reaction j\n",
    "    X = ρ * Y ./ W # Concentration\n",
    "    cv = sum(cvk ./ W .* Y) # Mass heat capacities\n",
    "    u = h ./ W - R ./ W .* T   # Internal energy for species\n",
    "    p = sum(X) * R * T # pressure\n",
    "    Kf = Af .* (T .^ β) .* exp.(-E ./ (R * T))\n",
    "    Kr = Kf ./ (((pa/(R * T)) .^ sum(ν, dims=1)' .* exp.(ΔS ./ R - ΔH ./ (R * T))))\n",
    "    Q = Kf .* prod(X .^ ν1_order, dims=1)' .- Kr .* prod(X .^ ν2, dims=1)'\n",
    "    ω_dot = W .* sum(ν .* Q', dims=2)\n",
    "    ###### Species Conservation\n",
    "    mgen_dot = V .* ω_dot \n",
    "    Y_dot = (1 / m) .* min_dot .* (Yin .- Y) - mout_dot .* Y .+ mgen_dot \n",
    "    ###### Energy Conservation\n",
    "    T_dot = 1 / (m * cv) * (-Qdot + min_dot * (hin - sum(u .* Yin)) - p * V / m * mout_dot - sum(mgen_dot .* u))\n",
    "    return [T_dot; Y_dot]\n",
    "end"
   ]
  },
  {
   "cell_type": "code",
   "execution_count": 149,
   "metadata": {},
   "outputs": [],
   "source": [
    "## RK4\n",
    "dt = 1e-11\n",
    "TY = [T;Y]\n",
    "Tt = zeros(5000)\n",
    "Pt = zeros(5000)\n",
    "Yt = zeros(N,5000)\n",
    "Y0 = [0.5; 0; 0.5; 0; 0] \n",
    "for i = 1:500000\n",
    "    k1 = f(TY)\n",
    "    k2 = f(TY + 0.5 * dt * k1)\n",
    "    k3 = f(TY + 0.5 * dt * k2)\n",
    "    k4 = f(TY + dt * k3)\n",
    "    TY += 1/6 * dt * (k1 + 2 * k2 + 2 * k3 + k4)\n",
    "    if (i % 100 == 0)\n",
    "        Tt[Int(i / 100)] = TY[1]\n",
    "        Y = TY[2:end]\n",
    "        Yt[:,Int(i / 100)] = Y - Y0\n",
    "        X = ρ * Y ./ W\n",
    "        p = sum(X) * R * TY[1]\n",
    "        Pt[Int(i / 100)] = p\n",
    "    end\n",
    "end\n"
   ]
  },
  {
   "cell_type": "code",
   "execution_count": 129,
   "metadata": {},
   "outputs": [
    {
     "name": "stderr",
     "output_type": "stream",
     "text": [
      "┌ Info: Precompiling Plots [91a5bcdd-55d7-5caf-9e0b-520d859cae80]\n",
      "└ @ Base loading.jl:1278\n"
     ]
    }
   ],
   "source": [
    "using Plots"
   ]
  },
  {
   "cell_type": "code",
   "execution_count": 186,
   "metadata": {},
   "outputs": [],
   "source": [
    "X = [i * 1e-9 for i = 1:5000]\n",
    "Yt_cant = py\"np.load\"(\"data/mass_fraction.npy\")\n",
    "plot(X, Yt', label=[\"O2\" \"H20\" \"CH4\" \"CO2\" \"N2\"])\n",
    "xlabel!(\"Time\")\n",
    "ylabel!(\"Change in mass fractions\")\n",
    "savefig(\"Mass_fraction.pdf\")"
   ]
  },
  {
   "cell_type": "code",
   "execution_count": 183,
   "metadata": {},
   "outputs": [
    {
     "data": {
      "text/plain": [
       "5×5000 Array{Float64,2}:\n",
       " 0.499991    0.499982    0.499972    …  0.270987  0.27075   0.270512\n",
       " 5.18291e-6  1.03673e-5  1.55531e-5     0.128934  0.129068  0.129202\n",
       " 0.499998    0.499995    0.499993       0.442592  0.442532  0.442472\n",
       " 6.3307e-6   1.26632e-5  1.89975e-5     0.157487  0.157651  0.157814\n",
       " 0.0         0.0         0.0            0.0       0.0       0.0"
      ]
     },
     "execution_count": 183,
     "metadata": {},
     "output_type": "execute_result"
    }
   ],
   "source": [
    "Yt_cant"
   ]
  },
  {
   "cell_type": "code",
   "execution_count": 187,
   "metadata": {},
   "outputs": [],
   "source": [
    "X = [i * 1e-9 for i = 1:5000]\n",
    "Pt_cant = py\"np.load\"(\"data/pressure.npy\")\n",
    "plot(X, [Pt Pt_cant], label = [\"Julia\" \"Cantera\"])\n",
    "xlabel!(\"Time\")\n",
    "ylabel!(\"Pressure\")\n",
    "savefig(\"Pressure.pdf\")"
   ]
  },
  {
   "cell_type": "code",
   "execution_count": 188,
   "metadata": {},
   "outputs": [],
   "source": [
    "plot(X, Tt)\n",
    "Tt_cant = py\"np.load\"(\"data/temperature.npy\")\n",
    "plot(X, [Tt Tt_cant], label = [\"Julia\" \"Cantera\"])\n",
    "xlabel!(\"Time\")\n",
    "ylabel!(\"Temperature\")\n",
    "savefig(\"Temperautre.pdf\")"
   ]
  },
  {
   "cell_type": "code",
   "execution_count": 173,
   "metadata": {},
   "outputs": [
    {
     "data": {
      "text/plain": [
       "6×1 Array{Float64,2}:\n",
       " 2813.2377516141873\n",
       "    0.4077206109618099\n",
       "    0.051953167986047204\n",
       "    0.47686763110979935\n",
       "    0.06345858994232516\n",
       "    0.0"
      ]
     },
     "execution_count": 173,
     "metadata": {},
     "output_type": "execute_result"
    }
   ],
   "source": [
    "TY"
   ]
  },
  {
   "cell_type": "code",
   "execution_count": null,
   "metadata": {},
   "outputs": [],
   "source": [
    "compute_cpHS1(NASA_coeffs[1,9:15], 8314.4621, T) "
   ]
  },
  {
   "cell_type": "code",
   "execution_count": null,
   "metadata": {},
   "outputs": [],
   "source": [
    "X"
   ]
  },
  {
   "cell_type": "code",
   "execution_count": null,
   "metadata": {},
   "outputs": [],
   "source": [
    "V = 0.7693166084401741  # Volume\n",
    "m = 1 # Total mass\n",
    "N = 4  # Number of Species\n",
    "M = 1  # Number of Reactions\n",
    "W = [16.04276; 31.9988; 44.0098; 18.01528] # Molar weight\n",
    "cvk = [1710.8, 658.57, 656.75, 1403.4]\n",
    "ν1_order = [1; 0.5; 0; 0] # Forward molar stoichiometric coefficients\n",
    "ν1 = [2; 1; 0; 0] # Forward molar stoichiometric coefficients\n",
    "ν2 = [0; 0; 1; 2] # Backward model stoichiometric coefficients\n",
    "forward_order = [1; 2; 0; 0] # Forward reaction order\n",
    "reverse_order = [0; 0; 1; 2] # Reverse reaction order\n",
    "ν = ν2 - ν1  \n",
    "S0 = [186.3; 205.1; 213.7; 188.8]\n",
    "H0 = [-74.8; 0; -393.5; -241.8]\n",
    "ΔS = [-5163.4343755]  # Entropy change for reaction j\n",
    "ΔH = [-8.0253912e+08] # Entahlpy change for reaction j\n",
    "pa = 100000 # 1 bar\n",
    "R = 8314.46261815324 # Gas constant in kmol\n",
    "### Constants: Combustion Chamber Level\n",
    "min_dot = 0 # Rate at which mass enters the chamber\n",
    "mout_dot = 0 # Rate at which mass leaves the chamber\n",
    "Yin = ones(N) # Mass fraction of species entering the chamber\n",
    "Yout = ones(N) # Mass fraction of species leaving the chamber\n",
    "Qdot = 0 # Heating source\n",
    "m_dot = min_dot - mout_dot\n",
    "hin = 1 # Enthalpy of input\n",
    "### Unknowns\n",
    "T = 300 # Temperature\n",
    "Y = [0.25; 0.25; 0.25; 0.25] # Mass fractions\n",
    "### Quantities that depend on the Unknowns\n",
    "ρ = m / V # density\n",
    "Af = [3.47850e+08] # preexponential constant Afj\n",
    "β = [0] # Temperature exponent\n",
    "E = [83680000.0] # Activation energy for the reactions in kJ (divide the value from Cantera by 1000)\n",
    "Q = ones(M) # Individual progress rates\n",
    "Kf = ones(M) # Forward reaction coefficients\n",
    "Kr = zeros(M) # Reverse reaction coefficients\n",
    "\n",
    "##### Computing ω_dot \n",
    "c_v = sum(cvk .* Y) # Mass heat capacities\n",
    "X = ρ * Y ./ W # Concentration\n",
    "u = X .* cvk .* W .* T   # Internal energy for species\n",
    "p = sum(X) * R * T # pressure\n",
    "Kf = Af .* (T .^ β) .* exp.(-E ./ (R * T))\n",
    "Kr = Kf ./ (((pa/(R * T)) .^ sum(ν, dims=1)' .* exp.(ΔS ./ R - ΔH ./ (R * T))))\n",
    "Q = Kf .* prod(X .^ ν1_order, dims=1)' .- Kr .* prod(X .^ ν2, dims=1)'\n",
    "ω_dot = W .* sum(ν .* Q', dims=2)\n",
    "###### Species Conservation\n",
    "mgen_dot = V .* ω_dot .* W\n",
    "Y_dot = (1 / m) .* min_dot .* (Yin .- Y) - mout_dot .* Y .+ mgen_dot \n",
    "###### Energy Conservation\n",
    "T_dot = 1 / (m * c_v) * (-Qdot + min_dot * (hin - sum(u .* Yin)) - p * V / m * mout_dot - sum(mgen_dot .* u))\n"
   ]
  }
 ],
 "metadata": {
  "kernelspec": {
   "display_name": "Julia 1.5.0",
   "language": "julia",
   "name": "julia-1.5"
  },
  "language_info": {
   "file_extension": ".jl",
   "mimetype": "application/julia",
   "name": "julia",
   "version": "1.5.0"
  }
 },
 "nbformat": 4,
 "nbformat_minor": 4
}
